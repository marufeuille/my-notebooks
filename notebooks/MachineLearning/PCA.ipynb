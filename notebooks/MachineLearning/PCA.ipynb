{
  "nbformat": 4,
  "nbformat_minor": 0,
  "metadata": {
    "colab": {
      "name": "PCA.ipynb",
      "provenance": [],
      "collapsed_sections": []
    },
    "kernelspec": {
      "name": "python3",
      "display_name": "Python 3"
    },
    "accelerator": "GPU"
  },
  "cells": [
    {
      "cell_type": "code",
      "metadata": {
        "id": "TFfTC-QZwNk1",
        "colab_type": "code",
        "colab": {}
      },
      "source": [
        "import numpy as np\n",
        "import matplotlib.pyplot as plt\n",
        "import numpy.linalg as LA\n",
        "from sklearn.datasets import fetch_openml"
      ],
      "execution_count": 0,
      "outputs": []
    },
    {
      "cell_type": "code",
      "metadata": {
        "id": "07pLLORewSmP",
        "colab_type": "code",
        "colab": {}
      },
      "source": [
        "mnist = fetch_openml('mnist_784', version=1,)\n",
        "x_train = mnist.data[:60000]\n",
        "x_test = mnist.data[60000:]\n",
        "y_train = mnist.target[:60000]\n",
        "y_test = mnist.target[60000:]"
      ],
      "execution_count": 0,
      "outputs": []
    },
    {
      "cell_type": "markdown",
      "metadata": {
        "id": "jlBm83kn59Yt",
        "colab_type": "text"
      },
      "source": [
        "## 共分散行列を計算\n",
        "今回の場合、28 x 28の画像の共分散行列は各ピクセル単位の共分散行列であると言える。"
      ]
    },
    {
      "cell_type": "code",
      "metadata": {
        "id": "KyLTffBqxbBc",
        "colab_type": "code",
        "colab": {}
      },
      "source": [
        "c = np.cov(x_train, rowvar=0, bias=0)"
      ],
      "execution_count": 0,
      "outputs": []
    },
    {
      "cell_type": "markdown",
      "metadata": {
        "id": "1d-vqNA96G9B",
        "colab_type": "text"
      },
      "source": [
        "## 固有ベクトルの計算\n",
        "- 固有ベクトルを計算する。\n",
        "- wが固有値、vが固有ベクトル"
      ]
    },
    {
      "cell_type": "code",
      "metadata": {
        "id": "5P0yZjyDzN_t",
        "colab_type": "code",
        "colab": {}
      },
      "source": [
        "w, v = LA.eigh(c)"
      ],
      "execution_count": 0,
      "outputs": []
    },
    {
      "cell_type": "markdown",
      "metadata": {
        "id": "jbh05YVa6OID",
        "colab_type": "text"
      },
      "source": [
        "## 使う固有ベクトルを選択する\n",
        "- 固有値が大きい固有ベクトルがそのデータの分散が大きい方向なので、その観点で選択する。\n",
        "- 今回は2次元に落とし込むので、大きい方から2つ持ってくる。"
      ]
    },
    {
      "cell_type": "code",
      "metadata": {
        "id": "pLfUOJVY4Vxd",
        "colab_type": "code",
        "colab": {}
      },
      "source": [
        "m1 = np.argmax(w)\n",
        "idx = [True] * w.shape[0]\n",
        "idx[m1] = False\n",
        "m2 = np.argmax(w[idx])"
      ],
      "execution_count": 0,
      "outputs": []
    },
    {
      "cell_type": "code",
      "metadata": {
        "id": "FZZdXIFD4sdN",
        "colab_type": "code",
        "outputId": "2e80fdef-9c06-45f1-9552-3ed335e7be63",
        "colab": {
          "base_uri": "https://localhost:8080/",
          "height": 34
        }
      },
      "source": [
        "m1, m2"
      ],
      "execution_count": 0,
      "outputs": [
        {
          "output_type": "execute_result",
          "data": {
            "text/plain": [
              "(783, 782)"
            ]
          },
          "metadata": {
            "tags": []
          },
          "execution_count": 6
        }
      ]
    },
    {
      "cell_type": "markdown",
      "metadata": {
        "id": "FQI7SNTs6hiV",
        "colab_type": "text"
      },
      "source": [
        "## 座標を変換する\n",
        "\n",
        "$ (x_0', x_1' ,\\cdots x_{783}') = (x_0 - E(x_0), x_1 - E(x_1), \\cdots x_{783} - E(x_{783}) \\cdot (\\vec{v_{783}}, \\vec{v_{782}})$"
      ]
    },
    {
      "cell_type": "code",
      "metadata": {
        "id": "CcWZevyZ11Rm",
        "colab_type": "code",
        "colab": {}
      },
      "source": [
        "mean = np.mean(x_train, axis=0)"
      ],
      "execution_count": 0,
      "outputs": []
    },
    {
      "cell_type": "code",
      "metadata": {
        "id": "3eUL9S97178j",
        "colab_type": "code",
        "outputId": "1760da45-6a24-4adf-d4b8-702624d35dd9",
        "colab": {
          "base_uri": "https://localhost:8080/",
          "height": 282
        }
      },
      "source": [
        "compressed = (x_train - mean).dot(np.hstack([v[:, m1][:, np.newaxis], v[:, m2][:, np.newaxis]]))\n",
        "for i in range(10):\n",
        "    idx = (y_train.astype(\"int\") == i)\n",
        "    plt.scatter(compressed[idx, 0], compressed[idx, 1], label=str(i))\n",
        "plt.legend()"
      ],
      "execution_count": 0,
      "outputs": [
        {
          "output_type": "execute_result",
          "data": {
            "text/plain": [
              "<matplotlib.legend.Legend at 0x7f127d45fda0>"
            ]
          },
          "metadata": {
            "tags": []
          },
          "execution_count": 10
        },
        {
          "output_type": "display_data",
          "data": {
            "image/png": "[encoded data removed]",
            "text/plain": [
              "<Figure size 432x288 with 1 Axes>"
            ]
          },
          "metadata": {
            "tags": [],
            "needs_background": "light"
          }
        }
      ]
    },
    {
      "cell_type": "markdown",
      "metadata": {
        "id": "EArbzf2z7Z57",
        "colab_type": "text"
      },
      "source": [
        "残しておいたテストデータもやってみる"
      ]
    },
    {
      "cell_type": "code",
      "metadata": {
        "id": "5QaZDjOG5MFB",
        "colab_type": "code",
        "outputId": "2a073cf0-bcb3-4ac3-f7f9-3a5ce364e207",
        "colab": {
          "base_uri": "https://localhost:8080/",
          "height": 282
        }
      },
      "source": [
        "compressed = (x_test - mean).dot(np.hstack([v[:, m1][:, np.newaxis], v[:, m2][:, np.newaxis]]))\n",
        "for i in range(10):\n",
        "    idx = (y_test.astype(\"int\") == i)\n",
        "    plt.scatter(compressed[idx, 0], compressed[idx, 1], label=str(i))\n",
        "plt.legend()"
      ],
      "execution_count": 0,
      "outputs": [
        {
          "output_type": "execute_result",
          "data": {
            "text/plain": [
              "<matplotlib.legend.Legend at 0x7f1289746390>"
            ]
          },
          "metadata": {
            "tags": []
          },
          "execution_count": 12
        },
        {
          "output_type": "display_data",
          "data": {
            "image/png": "[encoded data removed]",
            "text/plain": [
              "<Figure size 432x288 with 1 Axes>"
            ]
          },
          "metadata": {
            "tags": [],
            "needs_background": "light"
          }
        }
      ]
    },
    {
      "cell_type": "markdown",
      "metadata": {
        "id": "H7xshfMa-Ayv",
        "colab_type": "text"
      },
      "source": [
        "## 異常検出\n",
        "- 異常検出もやってみることにする。\n",
        "- クレジットカード取引情報を使う"
      ]
    },
    {
      "cell_type": "code",
      "metadata": {
        "id": "cVealcSP53ry",
        "colab_type": "code",
        "outputId": "770e1066-0d32-4363-b182-890e2cd25070",
        "colab": {
          "base_uri": "https://localhost:8080/",
          "height": 289
        }
      },
      "source": [
        "!wget https://github.com/aapatel09/handson-unsupervised-learning/raw/master/datasets/credit_card_data/credit_card.csv"
      ],
      "execution_count": 0,
      "outputs": [
        {
          "output_type": "stream",
          "text": [
            "--2020-04-24 12:26:50--  https://github.com/aapatel09/handson-unsupervised-learning/raw/master/datasets/credit_card_data/credit_card.csv\n",
            "Resolving github.com (github.com)... 140.82.114.4\n",
            "Connecting to github.com (github.com)|140.82.114.4|:443... connected.\n",
            "HTTP request sent, awaiting response... 302 Found\n",
            "Location: https://media.githubusercontent.com/media/aapatel09/handson-unsupervised-learning/master/datasets/credit_card_data/credit_card.csv [following]\n",
            "--2020-04-24 12:26:51--  https://media.githubusercontent.com/media/aapatel09/handson-unsupervised-learning/master/datasets/credit_card_data/credit_card.csv\n",
            "Resolving media.githubusercontent.com (media.githubusercontent.com)... 151.101.0.133, 151.101.64.133, 151.101.128.133, ...\n",
            "Connecting to media.githubusercontent.com (media.githubusercontent.com)|151.101.0.133|:443... connected.\n",
            "HTTP request sent, awaiting response... 200 OK\n",
            "Length: 150828752 (144M) [text/plain]\n",
            "Saving to: ‘credit_card.csv’\n",
            "\n",
            "credit_card.csv     100%[===================>] 143.84M   114MB/s    in 1.3s    \n",
            "\n",
            "2020-04-24 12:27:00 (114 MB/s) - ‘credit_card.csv’ saved [150828752/150828752]\n",
            "\n"
          ],
          "name": "stdout"
        }
      ]
    },
    {
      "cell_type": "code",
      "metadata": {
        "id": "CIKJiHOr_lX_",
        "colab_type": "code",
        "outputId": "1cfae421-4c2d-404c-b1b5-ab8d7e65d5ac",
        "colab": {
          "base_uri": "https://localhost:8080/",
          "height": 224
        }
      },
      "source": [
        "import pandas as pd\n",
        "df = pd.read_csv(\"credit_card.csv\")\n",
        "df.head()"
      ],
      "execution_count": 0,
      "outputs": [
        {
          "output_type": "execute_result",
          "data": {
            "text/html": [
              "<div>\n",
              "<style scoped>\n",
              "    .dataframe tbody tr th:only-of-type {\n",
              "        vertical-align: middle;\n",
              "    }\n",
              "\n",
              "    .dataframe tbody tr th {\n",
              "        vertical-align: top;\n",
              "    }\n",
              "\n",
              "    .dataframe thead th {\n",
              "        text-align: right;\n",
              "    }\n",
              "</style>\n",
              "<table border=\"1\" class=\"dataframe\">\n",
              "  <thead>\n",
              "    <tr style=\"text-align: right;\">\n",
              "      <th></th>\n",
              "      <th>Time</th>\n",
              "      <th>V1</th>\n",
              "      <th>V2</th>\n",
              "      <th>V3</th>\n",
              "      <th>V4</th>\n",
              "      <th>V5</th>\n",
              "      <th>V6</th>\n",
              "      <th>V7</th>\n",
              "      <th>V8</th>\n",
              "      <th>V9</th>\n",
              "      <th>V10</th>\n",
              "      <th>V11</th>\n",
              "      <th>V12</th>\n",
              "      <th>V13</th>\n",
              "      <th>V14</th>\n",
              "      <th>V15</th>\n",
              "      <th>V16</th>\n",
              "      <th>V17</th>\n",
              "      <th>V18</th>\n",
              "      <th>V19</th>\n",
              "      <th>V20</th>\n",
              "      <th>V21</th>\n",
              "      <th>V22</th>\n",
              "      <th>V23</th>\n",
              "      <th>V24</th>\n",
              "      <th>V25</th>\n",
              "      <th>V26</th>\n",
              "      <th>V27</th>\n",
              "      <th>V28</th>\n",
              "      <th>Amount</th>\n",
              "      <th>Class</th>\n",
              "    </tr>\n",
              "  </thead>\n",
              "  <tbody>\n",
              "    <tr>\n",
              "      <th>0</th>\n",
              "      <td>0.0</td>\n",
              "      <td>-1.359807</td>\n",
              "      <td>-0.072781</td>\n",
              "      <td>2.536347</td>\n",
              "      <td>1.378155</td>\n",
              "      <td>-0.338321</td>\n",
              "      <td>0.462388</td>\n",
              "      <td>0.239599</td>\n",
              "      <td>0.098698</td>\n",
              "      <td>0.363787</td>\n",
              "      <td>0.090794</td>\n",
              "      <td>-0.551600</td>\n",
              "      <td>-0.617801</td>\n",
              "      <td>-0.991390</td>\n",
              "      <td>-0.311169</td>\n",
              "      <td>1.468177</td>\n",
              "      <td>-0.470401</td>\n",
              "      <td>0.207971</td>\n",
              "      <td>0.025791</td>\n",
              "      <td>0.403993</td>\n",
              "      <td>0.251412</td>\n",
              "      <td>-0.018307</td>\n",
              "      <td>0.277838</td>\n",
              "      <td>-0.110474</td>\n",
              "      <td>0.066928</td>\n",
              "      <td>0.128539</td>\n",
              "      <td>-0.189115</td>\n",
              "      <td>0.133558</td>\n",
              "      <td>-0.021053</td>\n",
              "      <td>149.62</td>\n",
              "      <td>0</td>\n",
              "    </tr>\n",
              "    <tr>\n",
              "      <th>1</th>\n",
              "      <td>0.0</td>\n",
              "      <td>1.191857</td>\n",
              "      <td>0.266151</td>\n",
              "      <td>0.166480</td>\n",
              "      <td>0.448154</td>\n",
              "      <td>0.060018</td>\n",
              "      <td>-0.082361</td>\n",
              "      <td>-0.078803</td>\n",
              "      <td>0.085102</td>\n",
              "      <td>-0.255425</td>\n",
              "      <td>-0.166974</td>\n",
              "      <td>1.612727</td>\n",
              "      <td>1.065235</td>\n",
              "      <td>0.489095</td>\n",
              "      <td>-0.143772</td>\n",
              "      <td>0.635558</td>\n",
              "      <td>0.463917</td>\n",
              "      <td>-0.114805</td>\n",
              "      <td>-0.183361</td>\n",
              "      <td>-0.145783</td>\n",
              "      <td>-0.069083</td>\n",
              "      <td>-0.225775</td>\n",
              "      <td>-0.638672</td>\n",
              "      <td>0.101288</td>\n",
              "      <td>-0.339846</td>\n",
              "      <td>0.167170</td>\n",
              "      <td>0.125895</td>\n",
              "      <td>-0.008983</td>\n",
              "      <td>0.014724</td>\n",
              "      <td>2.69</td>\n",
              "      <td>0</td>\n",
              "    </tr>\n",
              "    <tr>\n",
              "      <th>2</th>\n",
              "      <td>1.0</td>\n",
              "      <td>-1.358354</td>\n",
              "      <td>-1.340163</td>\n",
              "      <td>1.773209</td>\n",
              "      <td>0.379780</td>\n",
              "      <td>-0.503198</td>\n",
              "      <td>1.800499</td>\n",
              "      <td>0.791461</td>\n",
              "      <td>0.247676</td>\n",
              "      <td>-1.514654</td>\n",
              "      <td>0.207643</td>\n",
              "      <td>0.624501</td>\n",
              "      <td>0.066084</td>\n",
              "      <td>0.717293</td>\n",
              "      <td>-0.165946</td>\n",
              "      <td>2.345865</td>\n",
              "      <td>-2.890083</td>\n",
              "      <td>1.109969</td>\n",
              "      <td>-0.121359</td>\n",
              "      <td>-2.261857</td>\n",
              "      <td>0.524980</td>\n",
              "      <td>0.247998</td>\n",
              "      <td>0.771679</td>\n",
              "      <td>0.909412</td>\n",
              "      <td>-0.689281</td>\n",
              "      <td>-0.327642</td>\n",
              "      <td>-0.139097</td>\n",
              "      <td>-0.055353</td>\n",
              "      <td>-0.059752</td>\n",
              "      <td>378.66</td>\n",
              "      <td>0</td>\n",
              "    </tr>\n",
              "    <tr>\n",
              "      <th>3</th>\n",
              "      <td>1.0</td>\n",
              "      <td>-0.966272</td>\n",
              "      <td>-0.185226</td>\n",
              "      <td>1.792993</td>\n",
              "      <td>-0.863291</td>\n",
              "      <td>-0.010309</td>\n",
              "      <td>1.247203</td>\n",
              "      <td>0.237609</td>\n",
              "      <td>0.377436</td>\n",
              "      <td>-1.387024</td>\n",
              "      <td>-0.054952</td>\n",
              "      <td>-0.226487</td>\n",
              "      <td>0.178228</td>\n",
              "      <td>0.507757</td>\n",
              "      <td>-0.287924</td>\n",
              "      <td>-0.631418</td>\n",
              "      <td>-1.059647</td>\n",
              "      <td>-0.684093</td>\n",
              "      <td>1.965775</td>\n",
              "      <td>-1.232622</td>\n",
              "      <td>-0.208038</td>\n",
              "      <td>-0.108300</td>\n",
              "      <td>0.005274</td>\n",
              "      <td>-0.190321</td>\n",
              "      <td>-1.175575</td>\n",
              "      <td>0.647376</td>\n",
              "      <td>-0.221929</td>\n",
              "      <td>0.062723</td>\n",
              "      <td>0.061458</td>\n",
              "      <td>123.50</td>\n",
              "      <td>0</td>\n",
              "    </tr>\n",
              "    <tr>\n",
              "      <th>4</th>\n",
              "      <td>2.0</td>\n",
              "      <td>-1.158233</td>\n",
              "      <td>0.877737</td>\n",
              "      <td>1.548718</td>\n",
              "      <td>0.403034</td>\n",
              "      <td>-0.407193</td>\n",
              "      <td>0.095921</td>\n",
              "      <td>0.592941</td>\n",
              "      <td>-0.270533</td>\n",
              "      <td>0.817739</td>\n",
              "      <td>0.753074</td>\n",
              "      <td>-0.822843</td>\n",
              "      <td>0.538196</td>\n",
              "      <td>1.345852</td>\n",
              "      <td>-1.119670</td>\n",
              "      <td>0.175121</td>\n",
              "      <td>-0.451449</td>\n",
              "      <td>-0.237033</td>\n",
              "      <td>-0.038195</td>\n",
              "      <td>0.803487</td>\n",
              "      <td>0.408542</td>\n",
              "      <td>-0.009431</td>\n",
              "      <td>0.798278</td>\n",
              "      <td>-0.137458</td>\n",
              "      <td>0.141267</td>\n",
              "      <td>-0.206010</td>\n",
              "      <td>0.502292</td>\n",
              "      <td>0.219422</td>\n",
              "      <td>0.215153</td>\n",
              "      <td>69.99</td>\n",
              "      <td>0</td>\n",
              "    </tr>\n",
              "  </tbody>\n",
              "</table>\n",
              "</div>"
            ],
            "text/plain": [
              "   Time        V1        V2        V3  ...       V27       V28  Amount  Class\n",
              "0   0.0 -1.359807 -0.072781  2.536347  ...  0.133558 -0.021053  149.62      0\n",
              "1   0.0  1.191857  0.266151  0.166480  ... -0.008983  0.014724    2.69      0\n",
              "2   1.0 -1.358354 -1.340163  1.773209  ... -0.055353 -0.059752  378.66      0\n",
              "3   1.0 -0.966272 -0.185226  1.792993  ...  0.062723  0.061458  123.50      0\n",
              "4   2.0 -1.158233  0.877737  1.548718  ...  0.219422  0.215153   69.99      0\n",
              "\n",
              "[5 rows x 31 columns]"
            ]
          },
          "metadata": {
            "tags": []
          },
          "execution_count": 3
        }
      ]
    },
    {
      "cell_type": "code",
      "metadata": {
        "id": "jscx_JZV_9Pi",
        "colab_type": "code",
        "colab": {}
      },
      "source": [
        "credit = df.to_numpy()\n",
        "X = credit[:, 1:30]\n",
        "Y = credit[:, 30]"
      ],
      "execution_count": 0,
      "outputs": []
    },
    {
      "cell_type": "code",
      "metadata": {
        "id": "W8mrZUwsAo1T",
        "colab_type": "code",
        "outputId": "98fa915b-a1ae-4129-a561-0d63e32d11d3",
        "colab": {
          "base_uri": "https://localhost:8080/",
          "height": 34
        }
      },
      "source": [
        "X.shape"
      ],
      "execution_count": 0,
      "outputs": [
        {
          "output_type": "execute_result",
          "data": {
            "text/plain": [
              "(284807, 29)"
            ]
          },
          "metadata": {
            "tags": []
          },
          "execution_count": 5
        }
      ]
    },
    {
      "cell_type": "code",
      "metadata": {
        "id": "H4Ba3d9TAA1U",
        "colab_type": "code",
        "colab": {}
      },
      "source": [
        "X_train = X[:int(X.shape[0] * 0.95)]\n",
        "X_test = X[int(X.shape[0] * 0.95):]\n",
        "Y_train = Y[:int(X.shape[0] * 0.95)].astype(\"int\")\n",
        "Y_test = Y[int(X.shape[0] * 0.95):].astype(\"int\")"
      ],
      "execution_count": 0,
      "outputs": []
    },
    {
      "cell_type": "markdown",
      "metadata": {
        "id": "5joXPQLYHYUd",
        "colab_type": "text"
      },
      "source": [
        "## まずは単純にPCA"
      ]
    },
    {
      "cell_type": "code",
      "metadata": {
        "id": "t1aA-2j0AR-I",
        "colab_type": "code",
        "colab": {}
      },
      "source": [
        "c = np.cov(X_train, rowvar=0, bias=0)"
      ],
      "execution_count": 0,
      "outputs": []
    },
    {
      "cell_type": "code",
      "metadata": {
        "id": "Z9zDfvlcBMFv",
        "colab_type": "code",
        "colab": {}
      },
      "source": [
        "w, v = LA.eigh(c)"
      ],
      "execution_count": 0,
      "outputs": []
    },
    {
      "cell_type": "code",
      "metadata": {
        "id": "xbWNwBT9BOBT",
        "colab_type": "code",
        "colab": {}
      },
      "source": [
        "to_dim = 10 # ここを変えると次元数をいじれる\n",
        "vs = []\n",
        "idx = [True] * w.shape[0]\n",
        "for i in range(to_dim):\n",
        "    ch = np.argmax(w[idx])\n",
        "    vs.append(v[ch][:, np.newaxis])\n",
        "    idx[ch] = False"
      ],
      "execution_count": 0,
      "outputs": []
    },
    {
      "cell_type": "code",
      "metadata": {
        "id": "T2YjeiEvBQp1",
        "colab_type": "code",
        "colab": {}
      },
      "source": [
        "mean = np.mean(X_train, axis=0)"
      ],
      "execution_count": 0,
      "outputs": []
    },
    {
      "cell_type": "code",
      "metadata": {
        "id": "fkuAa1xiBUZQ",
        "colab_type": "code",
        "colab": {}
      },
      "source": [
        "compressed = (X_train - mean).dot(np.hstack(vs))"
      ],
      "execution_count": 0,
      "outputs": []
    },
    {
      "cell_type": "markdown",
      "metadata": {
        "id": "ye1ksGITHdJN",
        "colab_type": "text"
      },
      "source": [
        "## 逆変換\n",
        "- 固有ベクトル行列は正方行列とは限らないので、pinvを使う。"
      ]
    },
    {
      "cell_type": "code",
      "metadata": {
        "id": "OQFuvsIZBXYK",
        "colab_type": "code",
        "colab": {}
      },
      "source": [
        "decompressed = compressed.dot(LA.pinv(np.hstack(vs))) + mean"
      ],
      "execution_count": 0,
      "outputs": []
    },
    {
      "cell_type": "markdown",
      "metadata": {
        "id": "gttcWRCGHmQI",
        "colab_type": "text"
      },
      "source": [
        "## 異常の検出\n",
        "- 戻した結果ともとの値の差分が大きいものがいつもと違う挙動と仮定し、何を使っていいかよくわからなかったので二乗和誤差で数値が大きいものから順にスコアが高いとして扱う"
      ]
    },
    {
      "cell_type": "code",
      "metadata": {
        "id": "x7z5HrjSBnAB",
        "colab_type": "code",
        "colab": {}
      },
      "source": [
        "rank = list(reversed(np.argsort(np.sum((X_train - decompressed) ** 2, axis=1), )))"
      ],
      "execution_count": 0,
      "outputs": []
    },
    {
      "cell_type": "markdown",
      "metadata": {
        "id": "gveV_ZgUHzVt",
        "colab_type": "text"
      },
      "source": [
        "- エラー全数のカウント"
      ]
    },
    {
      "cell_type": "code",
      "metadata": {
        "id": "A-LC5DxRC1wA",
        "colab_type": "code",
        "outputId": "7774bebe-6390-45f9-ec4c-d3316e12520c",
        "colab": {
          "base_uri": "https://localhost:8080/",
          "height": 34
        }
      },
      "source": [
        "error = np.sum((Y_train.astype(\"int\")==1) * 1)\n",
        "error"
      ],
      "execution_count": 0,
      "outputs": [
        {
          "output_type": "execute_result",
          "data": {
            "text/plain": [
              "481"
            ]
          },
          "metadata": {
            "tags": []
          },
          "execution_count": 16
        }
      ]
    },
    {
      "cell_type": "markdown",
      "metadata": {
        "id": "Y4DcIBA-H1XF",
        "colab_type": "text"
      },
      "source": [
        "- ROC曲線の描画"
      ]
    },
    {
      "cell_type": "code",
      "metadata": {
        "id": "k_DStZRcDCje",
        "colab_type": "code",
        "outputId": "15a2ab0a-43de-456f-bbce-2113b433262b",
        "colab": {
          "base_uri": "https://localhost:8080/",
          "height": 282
        }
      },
      "source": [
        "cnt = 0\n",
        "point = [0, 0]\n",
        "roc = []\n",
        "roc.append([0, 0])\n",
        "for ridx in rank:\n",
        "    if Y_train[ridx] == 1:\n",
        "            point[1] = point[1] +1\n",
        "            cnt = cnt + 1\n",
        "    else:\n",
        "        point[0] = point[0] +1\n",
        "    roc.append([point[0], point[1]])\n",
        "    if cnt == error:\n",
        "        roc.append([Y_train.shape[0], point[1]])\n",
        "        break\n",
        "roc = np.array(roc)\n",
        "plt.plot(roc[:, 0] / Y_train.shape, roc[:, 1] / error)\n",
        "plt.plot([0,1], color='black', linestyle='dashed')"
      ],
      "execution_count": 0,
      "outputs": [
        {
          "output_type": "execute_result",
          "data": {
            "text/plain": [
              "[<matplotlib.lines.Line2D at 0x7f3812940d30>]"
            ]
          },
          "metadata": {
            "tags": []
          },
          "execution_count": 17
        },
        {
          "output_type": "display_data",
          "data": {
            "image/png": "[encoded data removed]",
            "text/plain": [
              "<Figure size 432x288 with 1 Axes>"
            ]
          },
          "metadata": {
            "tags": [],
            "needs_background": "light"
          }
        }
      ]
    },
    {
      "cell_type": "code",
      "metadata": {
        "id": "RGQs0TQwF0Z7",
        "colab_type": "code",
        "colab": {}
      },
      "source": [
        ""
      ],
      "execution_count": 0,
      "outputs": []
    }
  ]
}