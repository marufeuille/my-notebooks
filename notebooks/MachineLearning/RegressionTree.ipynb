{
  "nbformat": 4,
  "nbformat_minor": 0,
  "metadata": {
    "colab": {
      "name": "RegressionTree.ipynb",
      "provenance": [],
      "collapsed_sections": []
    },
    "kernelspec": {
      "name": "python3",
      "display_name": "Python 3"
    }
  },
  "cells": [
    {
      "cell_type": "code",
      "metadata": {
        "id": "A67NSFX0wdyK",
        "colab_type": "code",
        "colab": {}
      },
      "source": [
        "import numpy as np\n",
        "import matplotlib.pyplot as plt"
      ],
      "execution_count": 0,
      "outputs": []
    },
    {
      "cell_type": "code",
      "metadata": {
        "id": "Qwjrt14CwPRP",
        "colab_type": "code",
        "outputId": "9311dd02-eb62-4717-8640-c6d2925cc9e2",
        "colab": {
          "base_uri": "https://localhost:8080/",
          "height": 282
        }
      },
      "source": [
        "def f(x):\n",
        "    N = x.shape[0] // 10\n",
        "    np.random.seed(71)\n",
        "    y = np.sin(x)\n",
        "    for idx in np.random.randint(0, x.shape[0], size=N):\n",
        "        y[idx] += np.random.normal()\n",
        "    return y\n",
        "X = np.arange(-1.5, 3, 0.1)[:, np.newaxis]\n",
        "y = f(X)\n",
        "plt.scatter(X, y, s=1)"
      ],
      "execution_count": 0,
      "outputs": [
        {
          "output_type": "execute_result",
          "data": {
            "text/plain": [
              "<matplotlib.collections.PathCollection at 0x7f3e19366fd0>"
            ]
          },
          "metadata": {
            "tags": []
          },
          "execution_count": 85
        },
        {
          "output_type": "display_data",
          "data": {
            "image/png": "[encoded data removed]",
            "text/plain": [
              "<Figure size 432x288 with 1 Axes>"
            ]
          },
          "metadata": {
            "tags": [],
            "needs_background": "light"
          }
        }
      ]
    },
    {
      "cell_type": "code",
      "metadata": {
        "id": "IzubrRdrxUnm",
        "colab_type": "code",
        "colab": {}
      },
      "source": [
        "def mse(y, y_pred):\n",
        "    return np.mean((y - y_pred) ** 2)"
      ],
      "execution_count": 0,
      "outputs": []
    },
    {
      "cell_type": "code",
      "metadata": {
        "id": "ApjcMT46zLba",
        "colab_type": "code",
        "colab": {}
      },
      "source": [
        "def divide(X, Y, depth, min_nodes=5):\n",
        "    if depth == 0 or X.shape[0] < 2 * min_nodes - 1:\n",
        "        return {'type': 'leaf', 'y': np.mean(Y), 'samples': Y.shape[0]}\n",
        "    Is = -np.inf\n",
        "    min_row = -1\n",
        "    min_col = -1\n",
        "    for row in range(0, X.shape[1]):\n",
        "        idx = np.argsort(X[:,row])\n",
        "        x = X[idx]\n",
        "        y = Y[idx]\n",
        "        mse = np.mean((y - np.mean(y)) ** 2)\n",
        "        for col in range(min_nodes, y.shape[0] - min_nodes):\n",
        "            yl = y[:col]\n",
        "            yr = y[col:]\n",
        "            il = np.mean((yl - np.mean(yl)) ** 2)\n",
        "            ir = np.mean((yr - np.mean(yr)) ** 2)\n",
        "            N = y.shape[0]\n",
        "            I = mse - (yl.shape[0] / N) * il - (yr.shape[0] / N) * ir\n",
        "            if Is < I:\n",
        "                Is = I\n",
        "                min_row, min_col = row, col\n",
        "    idx = np.argsort(X[:,min_row])\n",
        "    X = X[idx]\n",
        "    Y = Y[idx]\n",
        "    Xl = X[:min_col, :]\n",
        "    Xr = X[min_col:, :]\n",
        "    Yl = Y[:min_col]\n",
        "    Yr = Y[min_col:]\n",
        "\n",
        "\n",
        "    conds = {\n",
        "        'type': 'node',\n",
        "        'row': min_row,\n",
        "        'threshold': X[min_col, min_row],\n",
        "        'left': divide(Xl,Yl,depth-1, min_nodes=min_nodes),\n",
        "        'right': divide(Xr, Yr, depth-1, min_nodes=min_nodes)\n",
        "    }\n",
        "    return conds"
      ],
      "execution_count": 0,
      "outputs": []
    },
    {
      "cell_type": "code",
      "metadata": {
        "id": "TTe0v8DU361K",
        "colab_type": "code",
        "colab": {}
      },
      "source": [
        "def calc(tree, x):\n",
        "    n = tree\n",
        "    while n['type'] != 'leaf':\n",
        "        th = n['threshold']\n",
        "        row = n['row']\n",
        "        if x[row] < th:\n",
        "            n = n['left']\n",
        "        else:\n",
        "            n = n['right']\n",
        "    return n['y']"
      ],
      "execution_count": 0,
      "outputs": []
    },
    {
      "cell_type": "code",
      "metadata": {
        "id": "sCauoFMoAsRa",
        "colab_type": "code",
        "colab": {}
      },
      "source": [
        "def print_tree(tree, padding=0):\n",
        "    if tree['type'] == 'leaf':\n",
        "        print((' ' * padding) + 'y: ' + str(tree['y']) + ', samples: ' + str(tree['samples']))\n",
        "    else:\n",
        "        print((' ' * padding) + 'if row[' + str(tree['row']) + '] < ' + str(tree['threshold']) + ', then')\n",
        "        print_tree(tree['left'], padding=padding+1)\n",
        "        print((' ' * padding) +'else')\n",
        "        print_tree(tree['right'], padding=padding+1)"
      ],
      "execution_count": 0,
      "outputs": []
    },
    {
      "cell_type": "code",
      "metadata": {
        "id": "uB9IGKkY893v",
        "colab_type": "code",
        "colab": {}
      },
      "source": [
        "tree = divide(X, y, 2)"
      ],
      "execution_count": 0,
      "outputs": []
    },
    {
      "cell_type": "code",
      "metadata": {
        "id": "YD8nx5Ib6nLd",
        "colab_type": "code",
        "outputId": "219c61a0-505f-4014-8566-a0383147e202",
        "colab": {
          "base_uri": "https://localhost:8080/",
          "height": 282
        }
      },
      "source": [
        "N =  X.shape[0]\n",
        "y_pred = np.zeros(N)\n",
        "\n",
        "for i in range(N):\n",
        "    y_pred[i] = calc(tree, X[i])\n",
        "\n",
        "plt.scatter(X, y, s=1)\n",
        "plt.plot(X, y_pred)"
      ],
      "execution_count": 0,
      "outputs": [
        {
          "output_type": "execute_result",
          "data": {
            "text/plain": [
              "[<matplotlib.lines.Line2D at 0x7f3e19627518>]"
            ]
          },
          "metadata": {
            "tags": []
          },
          "execution_count": 91
        },
        {
          "output_type": "display_data",
          "data": {
            "image/png": "[encoded data removed]",
            "text/plain": [
              "<Figure size 432x288 with 1 Axes>"
            ]
          },
          "metadata": {
            "tags": [],
            "needs_background": "light"
          }
        }
      ]
    },
    {
      "cell_type": "code",
      "metadata": {
        "id": "VQJisw3aFueC",
        "colab_type": "code",
        "outputId": "9b701ff0-b679-4f7c-8e3e-13bf231bd3cb",
        "colab": {
          "base_uri": "https://localhost:8080/",
          "height": 187
        }
      },
      "source": [
        "print_tree(tree)"
      ],
      "execution_count": 0,
      "outputs": [
        {
          "output_type": "stream",
          "text": [
            "if row[0] < -0.399999999999999, then\n",
            " if row[0] < -0.9999999999999996, then\n",
            "  y: -0.9539498696076738, samples: 5\n",
            " else\n",
            "  y: -0.6717399474286383, samples: 6\n",
            "else\n",
            " if row[0] < 0.5000000000000018, then\n",
            "  y: 0.09899857755249557, samples: 9\n",
            " else\n",
            "  y: 0.7065902945833694, samples: 25\n"
          ],
          "name": "stdout"
        }
      ]
    },
    {
      "cell_type": "code",
      "metadata": {
        "id": "rkkO-hwW8SAl",
        "colab_type": "code",
        "colab": {}
      },
      "source": [
        "tree2 = divide(X, y, 5)"
      ],
      "execution_count": 0,
      "outputs": []
    },
    {
      "cell_type": "code",
      "metadata": {
        "id": "7WftFJsR9EKU",
        "colab_type": "code",
        "outputId": "b3b02798-22d7-4d53-d3d1-f1d7b0977293",
        "colab": {
          "base_uri": "https://localhost:8080/",
          "height": 282
        }
      },
      "source": [
        "N =  X.shape[0]\n",
        "y_pred = np.zeros(N)\n",
        "\n",
        "for i in range(N):\n",
        "    y_pred[i] = calc(tree2, X[i])\n",
        "\n",
        "plt.scatter(X, y, s=1, label=\"real\")\n",
        "plt.scatter(X, y_pred, s=1, label=\"pred\")\n",
        "plt.legend()"
      ],
      "execution_count": 0,
      "outputs": [
        {
          "output_type": "execute_result",
          "data": {
            "text/plain": [
              "<matplotlib.legend.Legend at 0x7f3e1919af98>"
            ]
          },
          "metadata": {
            "tags": []
          },
          "execution_count": 99
        },
        {
          "output_type": "display_data",
          "data": {
            "image/png": "[encoded data removed]",
            "text/plain": [
              "<Figure size 432x288 with 1 Axes>"
            ]
          },
          "metadata": {
            "tags": [],
            "needs_background": "light"
          }
        }
      ]
    },
    {
      "cell_type": "code",
      "metadata": {
        "id": "AORIKwZUBMyC",
        "colab_type": "code",
        "outputId": "f74f74fa-bfb4-42fa-8720-3a8f16e33d27",
        "colab": {
          "base_uri": "https://localhost:8080/",
          "height": 282
        }
      },
      "source": [
        "t = divide(X, y, 3, min_nodes=1)\n",
        "N =  X.shape[0]\n",
        "y_pred = np.zeros(N)\n",
        "\n",
        "for i in range(N):\n",
        "    y_pred[i] = calc(t, X[i])\n",
        "\n",
        "plt.scatter(X, y, s=1)\n",
        "plt.plot(X, y_pred)"
      ],
      "execution_count": 0,
      "outputs": [
        {
          "output_type": "execute_result",
          "data": {
            "text/plain": [
              "[<matplotlib.lines.Line2D at 0x7f3e1938ac18>]"
            ]
          },
          "metadata": {
            "tags": []
          },
          "execution_count": 97
        },
        {
          "output_type": "display_data",
          "data": {
            "image/png": "[encoded data removed]",
            "text/plain": [
              "<Figure size 432x288 with 1 Axes>"
            ]
          },
          "metadata": {
            "tags": [],
            "needs_background": "light"
          }
        }
      ]
    },
    {
      "cell_type": "code",
      "metadata": {
        "id": "PPc9rm81G7d4",
        "colab_type": "code",
        "colab": {}
      },
      "source": [
        ""
      ],
      "execution_count": 0,
      "outputs": []
    }
  ]
}